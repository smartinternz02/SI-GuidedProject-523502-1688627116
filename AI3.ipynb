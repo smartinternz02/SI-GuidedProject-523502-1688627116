{
  "nbformat": 4,
  "nbformat_minor": 0,
  "metadata": {
    "colab": {
      "provenance": [],
      "gpuType": "T4"
    },
    "kernelspec": {
      "name": "python3",
      "display_name": "Python 3"
    },
    "language_info": {
      "name": "python"
    },
    "accelerator": "GPU"
  },
  "cells": [
    {
      "cell_type": "code",
      "execution_count": null,
      "metadata": {
        "colab": {
          "base_uri": "https://localhost:8080/",
          "height": 131
        },
        "id": "UivImKNEjy3Q",
        "outputId": "52fa71df-8343-4481-8859-8059f6d7eeab"
      },
      "outputs": [
        {
          "output_type": "error",
          "ename": "SyntaxError",
          "evalue": "ignored",
          "traceback": [
            "\u001b[0;36m  File \u001b[0;32m\"<ipython-input-11-a2aacb367326>\"\u001b[0;36m, line \u001b[0;32m1\u001b[0m\n\u001b[0;31m    \"\"\"\u001b[0m\n\u001b[0m    ^\u001b[0m\n\u001b[0;31mSyntaxError\u001b[0m\u001b[0;31m:\u001b[0m incomplete input\n"
          ]
        }
      ],
      "source": [
        "\"\"\"\n",
        "1.VGG16\n",
        "2.ResNet\n"
      ]
    },
    {
      "cell_type": "code",
      "source": [
        "#VGG16\n"
      ],
      "metadata": {
        "id": "lttLt910oBAh"
      },
      "execution_count": null,
      "outputs": []
    },
    {
      "cell_type": "code",
      "source": [
        "from tensorflow.keras.layers import Dense,Flatten,Input\n",
        "from tensorflow.keras.models import Model\n",
        "from tensorflow.keras.preprocessing import image\n",
        "from tensorflow.keras.preprocessing.image import ImageDataGenerator, load_img\n",
        "import numpy as np"
      ],
      "metadata": {
        "id": "f59ctHHHoE1I"
      },
      "execution_count": null,
      "outputs": []
    },
    {
      "cell_type": "code",
      "source": [
        "!unzip \"/content/drive/MyDrive/archive (8)\""
      ],
      "metadata": {
        "colab": {
          "base_uri": "https://localhost:8080/"
        },
        "id": "jncqV9m1rD8P",
        "outputId": "fc30b502-2482-4aec-f7f7-6e30ba0f900c"
      },
      "execution_count": null,
      "outputs": [
        {
          "output_type": "stream",
          "name": "stdout",
          "text": [
            "unzip:  cannot find or open /content/drive/MyDrive/archive (8), /content/drive/MyDrive/archive (8).zip or /content/drive/MyDrive/archive (8).ZIP.\n"
          ]
        }
      ]
    },
    {
      "cell_type": "code",
      "source": [
        "train_path=\"/content/drive/MyDrive/archive (8)/test_data\"\n",
        "test_path=\"/content/drive/MyDrive/archive (8)/test_data\""
      ],
      "metadata": {
        "id": "WXcoAzdcrV3u"
      },
      "execution_count": null,
      "outputs": []
    },
    {
      "cell_type": "code",
      "source": [
        "train_gen  = ImageDataGenerator(rescale=1./255,\n",
        "                             shear_range=0.2,\n",
        "                             zoom_range=0.2,\n",
        "                             horizontal_flip=True)\n",
        "test_gen = ImageDataGenerator(rescale=1./255)"
      ],
      "metadata": {
        "id": "i8jllTkzrvKF"
      },
      "execution_count": null,
      "outputs": []
    },
    {
      "cell_type": "code",
      "source": [
        "train=train_gen.flow_from_directory(train_path,\n",
        "                                    target_size=(224,224),\n",
        "                                    batch_size=22,\n",
        "                                    class_mode='categorical')\n",
        "test = test_gen.flow_from_directory(test_path,\n",
        "                                    target_size=(224,224),\n",
        "                                    batch_size=22,\n",
        "                                    class_mode='categorical')"
      ],
      "metadata": {
        "colab": {
          "base_uri": "https://localhost:8080/"
        },
        "id": "rU5ousutsuoj",
        "outputId": "0fe6b7ed-85c5-4929-c05b-d00faaf1a318"
      },
      "execution_count": null,
      "outputs": [
        {
          "output_type": "stream",
          "name": "stdout",
          "text": [
            "Found 157 images belonging to 1 classes.\n",
            "Found 157 images belonging to 1 classes.\n"
          ]
        }
      ]
    },
    {
      "cell_type": "code",
      "source": [
        "from tensorflow.keras.applications.vgg16 import VGG16, preprocess_input"
      ],
      "metadata": {
        "id": "KN5TkNTPtfIy"
      },
      "execution_count": null,
      "outputs": []
    },
    {
      "cell_type": "code",
      "source": [
        "vgg = VGG16(include_top=False,weights='imagenet',input_shape=(224,224,3))"
      ],
      "metadata": {
        "colab": {
          "base_uri": "https://localhost:8080/"
        },
        "id": "XcjQBIvPxUEl",
        "outputId": "629b7bf5-831e-4d4c-dbaa-2969d699ea0b"
      },
      "execution_count": null,
      "outputs": [
        {
          "output_type": "stream",
          "name": "stdout",
          "text": [
            "Downloading data from https://storage.googleapis.com/tensorflow/keras-applications/vgg16/vgg16_weights_tf_dim_ordering_tf_kernels_notop.h5\n",
            "58889256/58889256 [==============================] - 4s 0us/step\n"
          ]
        }
      ]
    },
    {
      "cell_type": "code",
      "source": [
        "for layer in vgg.layers:\n",
        "  print(layer)"
      ],
      "metadata": {
        "colab": {
          "base_uri": "https://localhost:8080/"
        },
        "id": "vSVhJ7lxxoRP",
        "outputId": "37eb4ddc-62f1-4630-acce-386a55b48791"
      },
      "execution_count": null,
      "outputs": [
        {
          "output_type": "stream",
          "name": "stdout",
          "text": [
            "<keras.engine.input_layer.InputLayer object at 0x7fc92b0e4af0>\n",
            "<keras.layers.convolutional.conv2d.Conv2D object at 0x7fc92b0e6800>\n",
            "<keras.layers.convolutional.conv2d.Conv2D object at 0x7fc92b0e5ea0>\n",
            "<keras.layers.pooling.max_pooling2d.MaxPooling2D object at 0x7fc92b0e7d30>\n",
            "<keras.layers.convolutional.conv2d.Conv2D object at 0x7fc92b0e7040>\n",
            "<keras.layers.convolutional.conv2d.Conv2D object at 0x7fc92b0e79a0>\n",
            "<keras.layers.pooling.max_pooling2d.MaxPooling2D object at 0x7fc9297d93c0>\n",
            "<keras.layers.convolutional.conv2d.Conv2D object at 0x7fc9297da710>\n",
            "<keras.layers.convolutional.conv2d.Conv2D object at 0x7fc9297db580>\n",
            "<keras.layers.convolutional.conv2d.Conv2D object at 0x7fc9297da6e0>\n",
            "<keras.layers.pooling.max_pooling2d.MaxPooling2D object at 0x7fc9297e4c10>\n",
            "<keras.layers.convolutional.conv2d.Conv2D object at 0x7fc9297d8790>\n",
            "<keras.layers.convolutional.conv2d.Conv2D object at 0x7fc9297db8b0>\n",
            "<keras.layers.convolutional.conv2d.Conv2D object at 0x7fc9297d9810>\n",
            "<keras.layers.pooling.max_pooling2d.MaxPooling2D object at 0x7fc9297d9e10>\n",
            "<keras.layers.convolutional.conv2d.Conv2D object at 0x7fc92b0e74c0>\n",
            "<keras.layers.convolutional.conv2d.Conv2D object at 0x7fc9297e7220>\n",
            "<keras.layers.convolutional.conv2d.Conv2D object at 0x7fc9297e7dc0>\n",
            "<keras.layers.pooling.max_pooling2d.MaxPooling2D object at 0x7fc9297f8400>\n"
          ]
        }
      ]
    },
    {
      "cell_type": "code",
      "source": [
        "for layer in vgg.layers:\n",
        "  layer.trainable=False"
      ],
      "metadata": {
        "id": "hWBrxYvexzjU"
      },
      "execution_count": null,
      "outputs": []
    },
    {
      "cell_type": "code",
      "source": [
        "x=Flatten()(vgg.output)"
      ],
      "metadata": {
        "id": "OJRJXzhix7nv"
      },
      "execution_count": null,
      "outputs": []
    },
    {
      "cell_type": "code",
      "source": [
        "prediction=Dense(4,activation='softmax')(x)"
      ],
      "metadata": {
        "id": "C-MQGrC-yIT7"
      },
      "execution_count": null,
      "outputs": []
    },
    {
      "cell_type": "code",
      "source": [
        "model = Model(inputs=vgg.input,outputs=prediction)"
      ],
      "metadata": {
        "id": "A3mZBeHZyQ2w"
      },
      "execution_count": null,
      "outputs": []
    },
    {
      "cell_type": "code",
      "source": [
        "model.summary()"
      ],
      "metadata": {
        "colab": {
          "base_uri": "https://localhost:8080/"
        },
        "id": "sTj3EEZNXZBx",
        "outputId": "09281fcf-1a59-4e76-8b10-a64f15b360c3"
      },
      "execution_count": null,
      "outputs": [
        {
          "output_type": "stream",
          "name": "stdout",
          "text": [
            "Model: \"model\"\n",
            "_________________________________________________________________\n",
            " Layer (type)                Output Shape              Param #   \n",
            "=================================================================\n",
            " input_1 (InputLayer)        [(None, 224, 224, 3)]     0         \n",
            "                                                                 \n",
            " block1_conv1 (Conv2D)       (None, 224, 224, 64)      1792      \n",
            "                                                                 \n",
            " block1_conv2 (Conv2D)       (None, 224, 224, 64)      36928     \n",
            "                                                                 \n",
            " block1_pool (MaxPooling2D)  (None, 112, 112, 64)      0         \n",
            "                                                                 \n",
            " block2_conv1 (Conv2D)       (None, 112, 112, 128)     73856     \n",
            "                                                                 \n",
            " block2_conv2 (Conv2D)       (None, 112, 112, 128)     147584    \n",
            "                                                                 \n",
            " block2_pool (MaxPooling2D)  (None, 56, 56, 128)       0         \n",
            "                                                                 \n",
            " block3_conv1 (Conv2D)       (None, 56, 56, 256)       295168    \n",
            "                                                                 \n",
            " block3_conv2 (Conv2D)       (None, 56, 56, 256)       590080    \n",
            "                                                                 \n",
            " block3_conv3 (Conv2D)       (None, 56, 56, 256)       590080    \n",
            "                                                                 \n",
            " block3_pool (MaxPooling2D)  (None, 28, 28, 256)       0         \n",
            "                                                                 \n",
            " block4_conv1 (Conv2D)       (None, 28, 28, 512)       1180160   \n",
            "                                                                 \n",
            " block4_conv2 (Conv2D)       (None, 28, 28, 512)       2359808   \n",
            "                                                                 \n",
            " block4_conv3 (Conv2D)       (None, 28, 28, 512)       2359808   \n",
            "                                                                 \n",
            " block4_pool (MaxPooling2D)  (None, 14, 14, 512)       0         \n",
            "                                                                 \n",
            " block5_conv1 (Conv2D)       (None, 14, 14, 512)       2359808   \n",
            "                                                                 \n",
            " block5_conv2 (Conv2D)       (None, 14, 14, 512)       2359808   \n",
            "                                                                 \n",
            " block5_conv3 (Conv2D)       (None, 14, 14, 512)       2359808   \n",
            "                                                                 \n",
            " block5_pool (MaxPooling2D)  (None, 7, 7, 512)         0         \n",
            "                                                                 \n",
            " flatten (Flatten)           (None, 25088)             0         \n",
            "                                                                 \n",
            " dense (Dense)               (None, 4)                 100356    \n",
            "                                                                 \n",
            "=================================================================\n",
            "Total params: 14,815,044\n",
            "Trainable params: 100,356\n",
            "Non-trainable params: 14,714,688\n",
            "_________________________________________________________________\n"
          ]
        }
      ]
    },
    {
      "cell_type": "code",
      "source": [
        "model.compile(loss='categorical_crossentropy',optimizer='adam',metrics=['accuracy'])\n",
        ""
      ],
      "metadata": {
        "id": "I8NrSl29zG-x"
      },
      "execution_count": null,
      "outputs": []
    },
    {
      "cell_type": "code",
      "source": [
        "model.fit_generator(train,validation_data=test,epochs=10,steps_per_epoch=len(train),\n",
        "                    validation_steps=len(test))\n",
        ""
      ],
      "metadata": {
        "colab": {
          "base_uri": "https://localhost:8080/"
        },
        "id": "OIainutczj2M",
        "outputId": "0f595abe-23fe-4e0d-c89c-044969acc4b3"
      },
      "execution_count": null,
      "outputs": [
        {
          "output_type": "stream",
          "name": "stderr",
          "text": [
            "<ipython-input-14-bfa4e016b4f2>:1: UserWarning: `Model.fit_generator` is deprecated and will be removed in a future version. Please use `Model.fit`, which supports generators.\n",
            "  model.fit_generator(train,validation_data=test,epochs=10,steps_per_epoch=len(train),\n"
          ]
        },
        {
          "output_type": "stream",
          "name": "stdout",
          "text": [
            "Epoch 1/10\n",
            "8/8 [==============================] - 243s 28s/step - loss: 6.3220 - accuracy: 0.9873 - val_loss: 6.4455 - val_accuracy: 0.9936\n",
            "Epoch 2/10\n",
            "8/8 [==============================] - 100s 13s/step - loss: 6.4013 - accuracy: 0.9809 - val_loss: 6.3831 - val_accuracy: 0.9873\n",
            "Epoch 3/10\n",
            "8/8 [==============================] - 133s 18s/step - loss: 6.2916 - accuracy: 0.9873 - val_loss: 6.4582 - val_accuracy: 0.9936\n",
            "Epoch 4/10\n",
            "8/8 [==============================] - 98s 13s/step - loss: 6.4351 - accuracy: 0.9873 - val_loss: 6.3300 - val_accuracy: 0.9618\n",
            "Epoch 5/10\n",
            "8/8 [==============================] - 99s 14s/step - loss: 6.3181 - accuracy: 0.9554 - val_loss: 6.4865 - val_accuracy: 0.9809\n",
            "Epoch 6/10\n",
            "8/8 [==============================] - 133s 18s/step - loss: 6.3857 - accuracy: 0.9809 - val_loss: 6.2931 - val_accuracy: 0.9363\n",
            "Epoch 7/10\n",
            "8/8 [==============================] - 98s 13s/step - loss: 6.3249 - accuracy: 0.9682 - val_loss: 6.4103 - val_accuracy: 0.9809\n",
            "Epoch 8/10\n",
            "8/8 [==============================] - 132s 18s/step - loss: 6.3062 - accuracy: 0.9618 - val_loss: 6.4061 - val_accuracy: 0.9809\n",
            "Epoch 9/10\n",
            "8/8 [==============================] - 99s 13s/step - loss: 6.3674 - accuracy: 0.9682 - val_loss: 6.3720 - val_accuracy: 0.9745\n",
            "Epoch 10/10\n",
            "8/8 [==============================] - 98s 13s/step - loss: 6.3684 - accuracy: 0.9809 - val_loss: 6.4743 - val_accuracy: 0.9809\n"
          ]
        },
        {
          "output_type": "execute_result",
          "data": {
            "text/plain": [
              "<keras.callbacks.History at 0x7fc9285851b0>"
            ]
          },
          "metadata": {},
          "execution_count": 14
        }
      ]
    },
    {
      "cell_type": "code",
      "source": [
        "from tensorflow.keras.applications.resnet50 import ResNet50\n",
        ""
      ],
      "metadata": {
        "id": "BtUMaNUPz-As"
      },
      "execution_count": null,
      "outputs": []
    },
    {
      "cell_type": "code",
      "source": [
        "resnet = ResNet50(include_top=False,input_shape=(224,224,3))"
      ],
      "metadata": {
        "id": "N5HbhsvKX0BA",
        "colab": {
          "base_uri": "https://localhost:8080/"
        },
        "outputId": "d44e0961-a39f-48e4-ea51-12fe847273e5"
      },
      "execution_count": null,
      "outputs": [
        {
          "output_type": "stream",
          "name": "stdout",
          "text": [
            "Downloading data from https://storage.googleapis.com/tensorflow/keras-applications/resnet/resnet50_weights_tf_dim_ordering_tf_kernels_notop.h5\n",
            "94765736/94765736 [==============================] - 5s 0us/step\n"
          ]
        }
      ]
    },
    {
      "cell_type": "code",
      "source": [
        "for layer in resnet.layers:\n",
        "  layer.trainable=False\n",
        ""
      ],
      "metadata": {
        "id": "4HmyaIw1X5DD"
      },
      "execution_count": null,
      "outputs": []
    },
    {
      "cell_type": "code",
      "source": [
        "for layer in resnet.layers:\n",
        "  print(layer)"
      ],
      "metadata": {
        "id": "WdXrFzKgX7jM",
        "colab": {
          "base_uri": "https://localhost:8080/"
        },
        "outputId": "83f6d122-5e3a-4462-8c6b-59e506cda407"
      },
      "execution_count": null,
      "outputs": [
        {
          "output_type": "stream",
          "name": "stdout",
          "text": [
            "<keras.engine.input_layer.InputLayer object at 0x7fc9284f43d0>\n",
            "<keras.layers.reshaping.zero_padding2d.ZeroPadding2D object at 0x7fc92812ff40>\n",
            "<keras.layers.convolutional.conv2d.Conv2D object at 0x7fc9280d80d0>\n",
            "<keras.layers.normalization.batch_normalization.BatchNormalization object at 0x7fc9280bc7f0>\n",
            "<keras.layers.core.activation.Activation object at 0x7fc92813a050>\n",
            "<keras.layers.reshaping.zero_padding2d.ZeroPadding2D object at 0x7fc92813b670>\n",
            "<keras.layers.pooling.max_pooling2d.MaxPooling2D object at 0x7fc928136350>\n",
            "<keras.layers.convolutional.conv2d.Conv2D object at 0x7fc9281374c0>\n",
            "<keras.layers.normalization.batch_normalization.BatchNormalization object at 0x7fc928136ef0>\n",
            "<keras.layers.core.activation.Activation object at 0x7fc928134be0>\n",
            "<keras.layers.convolutional.conv2d.Conv2D object at 0x7fc928181ae0>\n",
            "<keras.layers.normalization.batch_normalization.BatchNormalization object at 0x7fc928182e90>\n",
            "<keras.layers.core.activation.Activation object at 0x7fc928182c20>\n",
            "<keras.layers.convolutional.conv2d.Conv2D object at 0x7fc92b94dc60>\n",
            "<keras.layers.convolutional.conv2d.Conv2D object at 0x7fc928183ac0>\n",
            "<keras.layers.normalization.batch_normalization.BatchNormalization object at 0x7fc928137640>\n",
            "<keras.layers.normalization.batch_normalization.BatchNormalization object at 0x7fc9281831f0>\n",
            "<keras.layers.merging.add.Add object at 0x7fc928183b80>\n",
            "<keras.layers.core.activation.Activation object at 0x7fc928183b50>\n",
            "<keras.layers.convolutional.conv2d.Conv2D object at 0x7fc91033d990>\n",
            "<keras.layers.normalization.batch_normalization.BatchNormalization object at 0x7fc91033efb0>\n",
            "<keras.layers.core.activation.Activation object at 0x7fc92b07bc10>\n",
            "<keras.layers.convolutional.conv2d.Conv2D object at 0x7fc928180d00>\n",
            "<keras.layers.normalization.batch_normalization.BatchNormalization object at 0x7fc928182080>\n",
            "<keras.layers.core.activation.Activation object at 0x7fc928183df0>\n",
            "<keras.layers.convolutional.conv2d.Conv2D object at 0x7fc928136830>\n",
            "<keras.layers.normalization.batch_normalization.BatchNormalization object at 0x7fc91033fac0>\n",
            "<keras.layers.merging.add.Add object at 0x7fc9281367d0>\n",
            "<keras.layers.core.activation.Activation object at 0x7fc91033eaa0>\n",
            "<keras.layers.convolutional.conv2d.Conv2D object at 0x7fc91033d3c0>\n",
            "<keras.layers.normalization.batch_normalization.BatchNormalization object at 0x7fc91033fa00>\n",
            "<keras.layers.core.activation.Activation object at 0x7fc91033fc40>\n",
            "<keras.layers.convolutional.conv2d.Conv2D object at 0x7fc910361810>\n",
            "<keras.layers.normalization.batch_normalization.BatchNormalization object at 0x7fc9103631c0>\n",
            "<keras.layers.core.activation.Activation object at 0x7fc910362ef0>\n",
            "<keras.layers.convolutional.conv2d.Conv2D object at 0x7fc910363df0>\n",
            "<keras.layers.normalization.batch_normalization.BatchNormalization object at 0x7fc910362bf0>\n",
            "<keras.layers.merging.add.Add object at 0x7fc910363eb0>\n",
            "<keras.layers.core.activation.Activation object at 0x7fc910363e80>\n",
            "<keras.layers.convolutional.conv2d.Conv2D object at 0x7fc91037ebc0>\n",
            "<keras.layers.normalization.batch_normalization.BatchNormalization object at 0x7fc91037fd90>\n",
            "<keras.layers.core.activation.Activation object at 0x7fc91037fdc0>\n",
            "<keras.layers.convolutional.conv2d.Conv2D object at 0x7fc91037ec20>\n",
            "<keras.layers.normalization.batch_normalization.BatchNormalization object at 0x7fc910396530>\n",
            "<keras.layers.core.activation.Activation object at 0x7fc9103979d0>\n",
            "<keras.layers.convolutional.conv2d.Conv2D object at 0x7fc910363f10>\n",
            "<keras.layers.convolutional.conv2d.Conv2D object at 0x7fc910397160>\n",
            "<keras.layers.normalization.batch_normalization.BatchNormalization object at 0x7fc91037f250>\n",
            "<keras.layers.normalization.batch_normalization.BatchNormalization object at 0x7fc910397be0>\n",
            "<keras.layers.merging.add.Add object at 0x7fc910397220>\n",
            "<keras.layers.core.activation.Activation object at 0x7fc9103970d0>\n",
            "<keras.layers.convolutional.conv2d.Conv2D object at 0x7fc9103b1000>\n",
            "<keras.layers.normalization.batch_normalization.BatchNormalization object at 0x7fc9103b2620>\n",
            "<keras.layers.core.activation.Activation object at 0x7fc9103b2200>\n",
            "<keras.layers.convolutional.conv2d.Conv2D object at 0x7fc9103b3250>\n",
            "<keras.layers.normalization.batch_normalization.BatchNormalization object at 0x7fc9103b3e80>\n",
            "<keras.layers.core.activation.Activation object at 0x7fc9103b2350>\n",
            "<keras.layers.convolutional.conv2d.Conv2D object at 0x7fc9103b3730>\n",
            "<keras.layers.normalization.batch_normalization.BatchNormalization object at 0x7fc9103dce50>\n",
            "<keras.layers.merging.add.Add object at 0x7fc9103b3370>\n",
            "<keras.layers.core.activation.Activation object at 0x7fc9103b0970>\n",
            "<keras.layers.convolutional.conv2d.Conv2D object at 0x7fc9103b0880>\n",
            "<keras.layers.normalization.batch_normalization.BatchNormalization object at 0x7fc910395480>\n",
            "<keras.layers.core.activation.Activation object at 0x7fc910396080>\n",
            "<keras.layers.convolutional.conv2d.Conv2D object at 0x7fc910394c70>\n",
            "<keras.layers.normalization.batch_normalization.BatchNormalization object at 0x7fc91037ca00>\n",
            "<keras.layers.core.activation.Activation object at 0x7fc910360040>\n",
            "<keras.layers.convolutional.conv2d.Conv2D object at 0x7fc910360280>\n",
            "<keras.layers.normalization.batch_normalization.BatchNormalization object at 0x7fc910361fc0>\n",
            "<keras.layers.merging.add.Add object at 0x7fc91037c190>\n",
            "<keras.layers.core.activation.Activation object at 0x7fc91033c730>\n",
            "<keras.layers.convolutional.conv2d.Conv2D object at 0x7fc91033c850>\n",
            "<keras.layers.normalization.batch_normalization.BatchNormalization object at 0x7fc9103df9d0>\n",
            "<keras.layers.core.activation.Activation object at 0x7fc910363a60>\n",
            "<keras.layers.convolutional.conv2d.Conv2D object at 0x7fc91033e2f0>\n",
            "<keras.layers.normalization.batch_normalization.BatchNormalization object at 0x7fc9103dd5a0>\n",
            "<keras.layers.core.activation.Activation object at 0x7fc9103de620>\n",
            "<keras.layers.convolutional.conv2d.Conv2D object at 0x7fc9103a1de0>\n",
            "<keras.layers.normalization.batch_normalization.BatchNormalization object at 0x7fc9103a2f20>\n",
            "<keras.layers.merging.add.Add object at 0x7fc9103a1f60>\n",
            "<keras.layers.core.activation.Activation object at 0x7fc9103a2bc0>\n",
            "<keras.layers.convolutional.conv2d.Conv2D object at 0x7fc9103a2d70>\n",
            "<keras.layers.normalization.batch_normalization.BatchNormalization object at 0x7fc9103a3ca0>\n",
            "<keras.layers.core.activation.Activation object at 0x7fc9103a3c70>\n",
            "<keras.layers.convolutional.conv2d.Conv2D object at 0x7fc910413190>\n",
            "<keras.layers.normalization.batch_normalization.BatchNormalization object at 0x7fc910413c10>\n",
            "<keras.layers.core.activation.Activation object at 0x7fc910411a50>\n",
            "<keras.layers.convolutional.conv2d.Conv2D object at 0x7fc9103a33a0>\n",
            "<keras.layers.convolutional.conv2d.Conv2D object at 0x7fc9104116c0>\n",
            "<keras.layers.normalization.batch_normalization.BatchNormalization object at 0x7fc9103a2b90>\n",
            "<keras.layers.normalization.batch_normalization.BatchNormalization object at 0x7fc910425570>\n",
            "<keras.layers.merging.add.Add object at 0x7fc910412a10>\n",
            "<keras.layers.core.activation.Activation object at 0x7fc910427700>\n",
            "<keras.layers.convolutional.conv2d.Conv2D object at 0x7fc9104268c0>\n",
            "<keras.layers.normalization.batch_normalization.BatchNormalization object at 0x7fc910427b50>\n",
            "<keras.layers.core.activation.Activation object at 0x7fc9104278b0>\n",
            "<keras.layers.convolutional.conv2d.Conv2D object at 0x7fc910427c70>\n",
            "<keras.layers.normalization.batch_normalization.BatchNormalization object at 0x7fc910251fc0>\n",
            "<keras.layers.core.activation.Activation object at 0x7fc9104242e0>\n",
            "<keras.layers.convolutional.conv2d.Conv2D object at 0x7fc910426c20>\n",
            "<keras.layers.normalization.batch_normalization.BatchNormalization object at 0x7fc910424dc0>\n",
            "<keras.layers.merging.add.Add object at 0x7fc9104107f0>\n",
            "<keras.layers.core.activation.Activation object at 0x7fc910411870>\n",
            "<keras.layers.convolutional.conv2d.Conv2D object at 0x7fc9103a1ae0>\n",
            "<keras.layers.normalization.batch_normalization.BatchNormalization object at 0x7fc9103a1d50>\n",
            "<keras.layers.core.activation.Activation object at 0x7fc9103dd1b0>\n",
            "<keras.layers.convolutional.conv2d.Conv2D object at 0x7fc910362b30>\n",
            "<keras.layers.normalization.batch_normalization.BatchNormalization object at 0x7fc9103a0340>\n",
            "<keras.layers.core.activation.Activation object at 0x7fc910361d80>\n",
            "<keras.layers.convolutional.conv2d.Conv2D object at 0x7fc91037e680>\n",
            "<keras.layers.normalization.batch_normalization.BatchNormalization object at 0x7fc910251d80>\n",
            "<keras.layers.merging.add.Add object at 0x7fc91037d180>\n",
            "<keras.layers.core.activation.Activation object at 0x7fc910251c30>\n",
            "<keras.layers.convolutional.conv2d.Conv2D object at 0x7fc910253310>\n",
            "<keras.layers.normalization.batch_normalization.BatchNormalization object at 0x7fc910275a80>\n",
            "<keras.layers.core.activation.Activation object at 0x7fc9102539a0>\n",
            "<keras.layers.convolutional.conv2d.Conv2D object at 0x7fc910275840>\n",
            "<keras.layers.normalization.batch_normalization.BatchNormalization object at 0x7fc9102772e0>\n",
            "<keras.layers.core.activation.Activation object at 0x7fc910277760>\n",
            "<keras.layers.convolutional.conv2d.Conv2D object at 0x7fc910277f10>\n",
            "<keras.layers.normalization.batch_normalization.BatchNormalization object at 0x7fc9102766b0>\n",
            "<keras.layers.merging.add.Add object at 0x7fc910277fd0>\n",
            "<keras.layers.core.activation.Activation object at 0x7fc91028ca60>\n",
            "<keras.layers.convolutional.conv2d.Conv2D object at 0x7fc91028e2f0>\n",
            "<keras.layers.normalization.batch_normalization.BatchNormalization object at 0x7fc91028f3a0>\n",
            "<keras.layers.core.activation.Activation object at 0x7fc91028d6c0>\n",
            "<keras.layers.convolutional.conv2d.Conv2D object at 0x7fc91028ffd0>\n",
            "<keras.layers.normalization.batch_normalization.BatchNormalization object at 0x7fc91028e740>\n",
            "<keras.layers.core.activation.Activation object at 0x7fc91028c7f0>\n",
            "<keras.layers.convolutional.conv2d.Conv2D object at 0x7fc9102ad8d0>\n",
            "<keras.layers.normalization.batch_normalization.BatchNormalization object at 0x7fc9102ae920>\n",
            "<keras.layers.merging.add.Add object at 0x7fc9102ad960>\n",
            "<keras.layers.core.activation.Activation object at 0x7fc9102afd00>\n",
            "<keras.layers.convolutional.conv2d.Conv2D object at 0x7fc9102af610>\n",
            "<keras.layers.normalization.batch_normalization.BatchNormalization object at 0x7fc9102aebf0>\n",
            "<keras.layers.core.activation.Activation object at 0x7fc9102ae5f0>\n",
            "<keras.layers.convolutional.conv2d.Conv2D object at 0x7fc9102af010>\n",
            "<keras.layers.normalization.batch_normalization.BatchNormalization object at 0x7fc9102ca590>\n",
            "<keras.layers.core.activation.Activation object at 0x7fc9102ae470>\n",
            "<keras.layers.convolutional.conv2d.Conv2D object at 0x7fc9102ae4d0>\n",
            "<keras.layers.normalization.batch_normalization.BatchNormalization object at 0x7fc9102ad510>\n",
            "<keras.layers.merging.add.Add object at 0x7fc91028dba0>\n",
            "<keras.layers.core.activation.Activation object at 0x7fc9102acfd0>\n",
            "<keras.layers.convolutional.conv2d.Conv2D object at 0x7fc910253dc0>\n",
            "<keras.layers.normalization.batch_normalization.BatchNormalization object at 0x7fc9102753c0>\n",
            "<keras.layers.core.activation.Activation object at 0x7fc910251e10>\n",
            "<keras.layers.convolutional.conv2d.Conv2D object at 0x7fc910277be0>\n",
            "<keras.layers.normalization.batch_normalization.BatchNormalization object at 0x7fc9102cb9a0>\n",
            "<keras.layers.core.activation.Activation object at 0x7fc9102cb760>\n",
            "<keras.layers.convolutional.conv2d.Conv2D object at 0x7fc9103de650>\n",
            "<keras.layers.convolutional.conv2d.Conv2D object at 0x7fc9102c8130>\n",
            "<keras.layers.normalization.batch_normalization.BatchNormalization object at 0x7fc910274d30>\n",
            "<keras.layers.normalization.batch_normalization.BatchNormalization object at 0x7fc9102ec7f0>\n",
            "<keras.layers.merging.add.Add object at 0x7fc9102cbca0>\n",
            "<keras.layers.core.activation.Activation object at 0x7fc9102ee1a0>\n",
            "<keras.layers.convolutional.conv2d.Conv2D object at 0x7fc9102ed480>\n",
            "<keras.layers.normalization.batch_normalization.BatchNormalization object at 0x7fc9102efa90>\n",
            "<keras.layers.core.activation.Activation object at 0x7fc9102ee110>\n",
            "<keras.layers.convolutional.conv2d.Conv2D object at 0x7fc9102ef820>\n",
            "<keras.layers.normalization.batch_normalization.BatchNormalization object at 0x7fc9102ece50>\n",
            "<keras.layers.core.activation.Activation object at 0x7fc9102ef670>\n",
            "<keras.layers.convolutional.conv2d.Conv2D object at 0x7fc910309f90>\n",
            "<keras.layers.normalization.batch_normalization.BatchNormalization object at 0x7fc91030afe0>\n",
            "<keras.layers.merging.add.Add object at 0x7fc91030a020>\n",
            "<keras.layers.core.activation.Activation object at 0x7fc91030acb0>\n",
            "<keras.layers.convolutional.conv2d.Conv2D object at 0x7fc91030bcd0>\n",
            "<keras.layers.normalization.batch_normalization.BatchNormalization object at 0x7fc91030ac50>\n",
            "<keras.layers.core.activation.Activation object at 0x7fc91030b310>\n",
            "<keras.layers.convolutional.conv2d.Conv2D object at 0x7fc91030b970>\n",
            "<keras.layers.normalization.batch_normalization.BatchNormalization object at 0x7fc910322cb0>\n",
            "<keras.layers.core.activation.Activation object at 0x7fc9103229b0>\n",
            "<keras.layers.convolutional.conv2d.Conv2D object at 0x7fc9103238e0>\n",
            "<keras.layers.normalization.batch_normalization.BatchNormalization object at 0x7fc910322fe0>\n",
            "<keras.layers.merging.add.Add object at 0x7fc9103239a0>\n",
            "<keras.layers.core.activation.Activation object at 0x7fc910148430>\n"
          ]
        }
      ]
    },
    {
      "cell_type": "code",
      "source": [
        "x = Flatten()(resnet.output)"
      ],
      "metadata": {
        "id": "Da_acU8WYBJj"
      },
      "execution_count": null,
      "outputs": []
    },
    {
      "cell_type": "code",
      "source": [
        "out = Dense(4, activation='softmax')(x)"
      ],
      "metadata": {
        "id": "aPykqTUnYDw0"
      },
      "execution_count": null,
      "outputs": []
    },
    {
      "cell_type": "code",
      "source": [
        "res_model = Model(inputs=resnet.input,outputs=out)\n",
        "\n"
      ],
      "metadata": {
        "id": "pxTbqJp4YGQ_"
      },
      "execution_count": null,
      "outputs": []
    },
    {
      "cell_type": "code",
      "source": [
        "res_model.summary()"
      ],
      "metadata": {
        "id": "0Uu-o085YI-T",
        "colab": {
          "base_uri": "https://localhost:8080/"
        },
        "outputId": "6f81ad23-297c-4288-8d56-c746e109e9f8"
      },
      "execution_count": null,
      "outputs": [
        {
          "output_type": "stream",
          "name": "stdout",
          "text": [
            "Model: \"model_2\"\n",
            "__________________________________________________________________________________________________\n",
            " Layer (type)                   Output Shape         Param #     Connected to                     \n",
            "==================================================================================================\n",
            " input_2 (InputLayer)           [(None, 224, 224, 3  0           []                               \n",
            "                                )]                                                                \n",
            "                                                                                                  \n",
            " conv1_pad (ZeroPadding2D)      (None, 230, 230, 3)  0           ['input_2[0][0]']                \n",
            "                                                                                                  \n",
            " conv1_conv (Conv2D)            (None, 112, 112, 64  9472        ['conv1_pad[0][0]']              \n",
            "                                )                                                                 \n",
            "                                                                                                  \n",
            " conv1_bn (BatchNormalization)  (None, 112, 112, 64  256         ['conv1_conv[0][0]']             \n",
            "                                )                                                                 \n",
            "                                                                                                  \n",
            " conv1_relu (Activation)        (None, 112, 112, 64  0           ['conv1_bn[0][0]']               \n",
            "                                )                                                                 \n",
            "                                                                                                  \n",
            " pool1_pad (ZeroPadding2D)      (None, 114, 114, 64  0           ['conv1_relu[0][0]']             \n",
            "                                )                                                                 \n",
            "                                                                                                  \n",
            " pool1_pool (MaxPooling2D)      (None, 56, 56, 64)   0           ['pool1_pad[0][0]']              \n",
            "                                                                                                  \n",
            " conv2_block1_1_conv (Conv2D)   (None, 56, 56, 64)   4160        ['pool1_pool[0][0]']             \n",
            "                                                                                                  \n",
            " conv2_block1_1_bn (BatchNormal  (None, 56, 56, 64)  256         ['conv2_block1_1_conv[0][0]']    \n",
            " ization)                                                                                         \n",
            "                                                                                                  \n",
            " conv2_block1_1_relu (Activatio  (None, 56, 56, 64)  0           ['conv2_block1_1_bn[0][0]']      \n",
            " n)                                                                                               \n",
            "                                                                                                  \n",
            " conv2_block1_2_conv (Conv2D)   (None, 56, 56, 64)   36928       ['conv2_block1_1_relu[0][0]']    \n",
            "                                                                                                  \n",
            " conv2_block1_2_bn (BatchNormal  (None, 56, 56, 64)  256         ['conv2_block1_2_conv[0][0]']    \n",
            " ization)                                                                                         \n",
            "                                                                                                  \n",
            " conv2_block1_2_relu (Activatio  (None, 56, 56, 64)  0           ['conv2_block1_2_bn[0][0]']      \n",
            " n)                                                                                               \n",
            "                                                                                                  \n",
            " conv2_block1_0_conv (Conv2D)   (None, 56, 56, 256)  16640       ['pool1_pool[0][0]']             \n",
            "                                                                                                  \n",
            " conv2_block1_3_conv (Conv2D)   (None, 56, 56, 256)  16640       ['conv2_block1_2_relu[0][0]']    \n",
            "                                                                                                  \n",
            " conv2_block1_0_bn (BatchNormal  (None, 56, 56, 256)  1024       ['conv2_block1_0_conv[0][0]']    \n",
            " ization)                                                                                         \n",
            "                                                                                                  \n",
            " conv2_block1_3_bn (BatchNormal  (None, 56, 56, 256)  1024       ['conv2_block1_3_conv[0][0]']    \n",
            " ization)                                                                                         \n",
            "                                                                                                  \n",
            " conv2_block1_add (Add)         (None, 56, 56, 256)  0           ['conv2_block1_0_bn[0][0]',      \n",
            "                                                                  'conv2_block1_3_bn[0][0]']      \n",
            "                                                                                                  \n",
            " conv2_block1_out (Activation)  (None, 56, 56, 256)  0           ['conv2_block1_add[0][0]']       \n",
            "                                                                                                  \n",
            " conv2_block2_1_conv (Conv2D)   (None, 56, 56, 64)   16448       ['conv2_block1_out[0][0]']       \n",
            "                                                                                                  \n",
            " conv2_block2_1_bn (BatchNormal  (None, 56, 56, 64)  256         ['conv2_block2_1_conv[0][0]']    \n",
            " ization)                                                                                         \n",
            "                                                                                                  \n",
            " conv2_block2_1_relu (Activatio  (None, 56, 56, 64)  0           ['conv2_block2_1_bn[0][0]']      \n",
            " n)                                                                                               \n",
            "                                                                                                  \n",
            " conv2_block2_2_conv (Conv2D)   (None, 56, 56, 64)   36928       ['conv2_block2_1_relu[0][0]']    \n",
            "                                                                                                  \n",
            " conv2_block2_2_bn (BatchNormal  (None, 56, 56, 64)  256         ['conv2_block2_2_conv[0][0]']    \n",
            " ization)                                                                                         \n",
            "                                                                                                  \n",
            " conv2_block2_2_relu (Activatio  (None, 56, 56, 64)  0           ['conv2_block2_2_bn[0][0]']      \n",
            " n)                                                                                               \n",
            "                                                                                                  \n",
            " conv2_block2_3_conv (Conv2D)   (None, 56, 56, 256)  16640       ['conv2_block2_2_relu[0][0]']    \n",
            "                                                                                                  \n",
            " conv2_block2_3_bn (BatchNormal  (None, 56, 56, 256)  1024       ['conv2_block2_3_conv[0][0]']    \n",
            " ization)                                                                                         \n",
            "                                                                                                  \n",
            " conv2_block2_add (Add)         (None, 56, 56, 256)  0           ['conv2_block1_out[0][0]',       \n",
            "                                                                  'conv2_block2_3_bn[0][0]']      \n",
            "                                                                                                  \n",
            " conv2_block2_out (Activation)  (None, 56, 56, 256)  0           ['conv2_block2_add[0][0]']       \n",
            "                                                                                                  \n",
            " conv2_block3_1_conv (Conv2D)   (None, 56, 56, 64)   16448       ['conv2_block2_out[0][0]']       \n",
            "                                                                                                  \n",
            " conv2_block3_1_bn (BatchNormal  (None, 56, 56, 64)  256         ['conv2_block3_1_conv[0][0]']    \n",
            " ization)                                                                                         \n",
            "                                                                                                  \n",
            " conv2_block3_1_relu (Activatio  (None, 56, 56, 64)  0           ['conv2_block3_1_bn[0][0]']      \n",
            " n)                                                                                               \n",
            "                                                                                                  \n",
            " conv2_block3_2_conv (Conv2D)   (None, 56, 56, 64)   36928       ['conv2_block3_1_relu[0][0]']    \n",
            "                                                                                                  \n",
            " conv2_block3_2_bn (BatchNormal  (None, 56, 56, 64)  256         ['conv2_block3_2_conv[0][0]']    \n",
            " ization)                                                                                         \n",
            "                                                                                                  \n",
            " conv2_block3_2_relu (Activatio  (None, 56, 56, 64)  0           ['conv2_block3_2_bn[0][0]']      \n",
            " n)                                                                                               \n",
            "                                                                                                  \n",
            " conv2_block3_3_conv (Conv2D)   (None, 56, 56, 256)  16640       ['conv2_block3_2_relu[0][0]']    \n",
            "                                                                                                  \n",
            " conv2_block3_3_bn (BatchNormal  (None, 56, 56, 256)  1024       ['conv2_block3_3_conv[0][0]']    \n",
            " ization)                                                                                         \n",
            "                                                                                                  \n",
            " conv2_block3_add (Add)         (None, 56, 56, 256)  0           ['conv2_block2_out[0][0]',       \n",
            "                                                                  'conv2_block3_3_bn[0][0]']      \n",
            "                                                                                                  \n",
            " conv2_block3_out (Activation)  (None, 56, 56, 256)  0           ['conv2_block3_add[0][0]']       \n",
            "                                                                                                  \n",
            " conv3_block1_1_conv (Conv2D)   (None, 28, 28, 128)  32896       ['conv2_block3_out[0][0]']       \n",
            "                                                                                                  \n",
            " conv3_block1_1_bn (BatchNormal  (None, 28, 28, 128)  512        ['conv3_block1_1_conv[0][0]']    \n",
            " ization)                                                                                         \n",
            "                                                                                                  \n",
            " conv3_block1_1_relu (Activatio  (None, 28, 28, 128)  0          ['conv3_block1_1_bn[0][0]']      \n",
            " n)                                                                                               \n",
            "                                                                                                  \n",
            " conv3_block1_2_conv (Conv2D)   (None, 28, 28, 128)  147584      ['conv3_block1_1_relu[0][0]']    \n",
            "                                                                                                  \n",
            " conv3_block1_2_bn (BatchNormal  (None, 28, 28, 128)  512        ['conv3_block1_2_conv[0][0]']    \n",
            " ization)                                                                                         \n",
            "                                                                                                  \n",
            " conv3_block1_2_relu (Activatio  (None, 28, 28, 128)  0          ['conv3_block1_2_bn[0][0]']      \n",
            " n)                                                                                               \n",
            "                                                                                                  \n",
            " conv3_block1_0_conv (Conv2D)   (None, 28, 28, 512)  131584      ['conv2_block3_out[0][0]']       \n",
            "                                                                                                  \n",
            " conv3_block1_3_conv (Conv2D)   (None, 28, 28, 512)  66048       ['conv3_block1_2_relu[0][0]']    \n",
            "                                                                                                  \n",
            " conv3_block1_0_bn (BatchNormal  (None, 28, 28, 512)  2048       ['conv3_block1_0_conv[0][0]']    \n",
            " ization)                                                                                         \n",
            "                                                                                                  \n",
            " conv3_block1_3_bn (BatchNormal  (None, 28, 28, 512)  2048       ['conv3_block1_3_conv[0][0]']    \n",
            " ization)                                                                                         \n",
            "                                                                                                  \n",
            " conv3_block1_add (Add)         (None, 28, 28, 512)  0           ['conv3_block1_0_bn[0][0]',      \n",
            "                                                                  'conv3_block1_3_bn[0][0]']      \n",
            "                                                                                                  \n",
            " conv3_block1_out (Activation)  (None, 28, 28, 512)  0           ['conv3_block1_add[0][0]']       \n",
            "                                                                                                  \n",
            " conv3_block2_1_conv (Conv2D)   (None, 28, 28, 128)  65664       ['conv3_block1_out[0][0]']       \n",
            "                                                                                                  \n",
            " conv3_block2_1_bn (BatchNormal  (None, 28, 28, 128)  512        ['conv3_block2_1_conv[0][0]']    \n",
            " ization)                                                                                         \n",
            "                                                                                                  \n",
            " conv3_block2_1_relu (Activatio  (None, 28, 28, 128)  0          ['conv3_block2_1_bn[0][0]']      \n",
            " n)                                                                                               \n",
            "                                                                                                  \n",
            " conv3_block2_2_conv (Conv2D)   (None, 28, 28, 128)  147584      ['conv3_block2_1_relu[0][0]']    \n",
            "                                                                                                  \n",
            " conv3_block2_2_bn (BatchNormal  (None, 28, 28, 128)  512        ['conv3_block2_2_conv[0][0]']    \n",
            " ization)                                                                                         \n",
            "                                                                                                  \n",
            " conv3_block2_2_relu (Activatio  (None, 28, 28, 128)  0          ['conv3_block2_2_bn[0][0]']      \n",
            " n)                                                                                               \n",
            "                                                                                                  \n",
            " conv3_block2_3_conv (Conv2D)   (None, 28, 28, 512)  66048       ['conv3_block2_2_relu[0][0]']    \n",
            "                                                                                                  \n",
            " conv3_block2_3_bn (BatchNormal  (None, 28, 28, 512)  2048       ['conv3_block2_3_conv[0][0]']    \n",
            " ization)                                                                                         \n",
            "                                                                                                  \n",
            " conv3_block2_add (Add)         (None, 28, 28, 512)  0           ['conv3_block1_out[0][0]',       \n",
            "                                                                  'conv3_block2_3_bn[0][0]']      \n",
            "                                                                                                  \n",
            " conv3_block2_out (Activation)  (None, 28, 28, 512)  0           ['conv3_block2_add[0][0]']       \n",
            "                                                                                                  \n",
            " conv3_block3_1_conv (Conv2D)   (None, 28, 28, 128)  65664       ['conv3_block2_out[0][0]']       \n",
            "                                                                                                  \n",
            " conv3_block3_1_bn (BatchNormal  (None, 28, 28, 128)  512        ['conv3_block3_1_conv[0][0]']    \n",
            " ization)                                                                                         \n",
            "                                                                                                  \n",
            " conv3_block3_1_relu (Activatio  (None, 28, 28, 128)  0          ['conv3_block3_1_bn[0][0]']      \n",
            " n)                                                                                               \n",
            "                                                                                                  \n",
            " conv3_block3_2_conv (Conv2D)   (None, 28, 28, 128)  147584      ['conv3_block3_1_relu[0][0]']    \n",
            "                                                                                                  \n",
            " conv3_block3_2_bn (BatchNormal  (None, 28, 28, 128)  512        ['conv3_block3_2_conv[0][0]']    \n",
            " ization)                                                                                         \n",
            "                                                                                                  \n",
            " conv3_block3_2_relu (Activatio  (None, 28, 28, 128)  0          ['conv3_block3_2_bn[0][0]']      \n",
            " n)                                                                                               \n",
            "                                                                                                  \n",
            " conv3_block3_3_conv (Conv2D)   (None, 28, 28, 512)  66048       ['conv3_block3_2_relu[0][0]']    \n",
            "                                                                                                  \n",
            " conv3_block3_3_bn (BatchNormal  (None, 28, 28, 512)  2048       ['conv3_block3_3_conv[0][0]']    \n",
            " ization)                                                                                         \n",
            "                                                                                                  \n",
            " conv3_block3_add (Add)         (None, 28, 28, 512)  0           ['conv3_block2_out[0][0]',       \n",
            "                                                                  'conv3_block3_3_bn[0][0]']      \n",
            "                                                                                                  \n",
            " conv3_block3_out (Activation)  (None, 28, 28, 512)  0           ['conv3_block3_add[0][0]']       \n",
            "                                                                                                  \n",
            " conv3_block4_1_conv (Conv2D)   (None, 28, 28, 128)  65664       ['conv3_block3_out[0][0]']       \n",
            "                                                                                                  \n",
            " conv3_block4_1_bn (BatchNormal  (None, 28, 28, 128)  512        ['conv3_block4_1_conv[0][0]']    \n",
            " ization)                                                                                         \n",
            "                                                                                                  \n",
            " conv3_block4_1_relu (Activatio  (None, 28, 28, 128)  0          ['conv3_block4_1_bn[0][0]']      \n",
            " n)                                                                                               \n",
            "                                                                                                  \n",
            " conv3_block4_2_conv (Conv2D)   (None, 28, 28, 128)  147584      ['conv3_block4_1_relu[0][0]']    \n",
            "                                                                                                  \n",
            " conv3_block4_2_bn (BatchNormal  (None, 28, 28, 128)  512        ['conv3_block4_2_conv[0][0]']    \n",
            " ization)                                                                                         \n",
            "                                                                                                  \n",
            " conv3_block4_2_relu (Activatio  (None, 28, 28, 128)  0          ['conv3_block4_2_bn[0][0]']      \n",
            " n)                                                                                               \n",
            "                                                                                                  \n",
            " conv3_block4_3_conv (Conv2D)   (None, 28, 28, 512)  66048       ['conv3_block4_2_relu[0][0]']    \n",
            "                                                                                                  \n",
            " conv3_block4_3_bn (BatchNormal  (None, 28, 28, 512)  2048       ['conv3_block4_3_conv[0][0]']    \n",
            " ization)                                                                                         \n",
            "                                                                                                  \n",
            " conv3_block4_add (Add)         (None, 28, 28, 512)  0           ['conv3_block3_out[0][0]',       \n",
            "                                                                  'conv3_block4_3_bn[0][0]']      \n",
            "                                                                                                  \n",
            " conv3_block4_out (Activation)  (None, 28, 28, 512)  0           ['conv3_block4_add[0][0]']       \n",
            "                                                                                                  \n",
            " conv4_block1_1_conv (Conv2D)   (None, 14, 14, 256)  131328      ['conv3_block4_out[0][0]']       \n",
            "                                                                                                  \n",
            " conv4_block1_1_bn (BatchNormal  (None, 14, 14, 256)  1024       ['conv4_block1_1_conv[0][0]']    \n",
            " ization)                                                                                         \n",
            "                                                                                                  \n",
            " conv4_block1_1_relu (Activatio  (None, 14, 14, 256)  0          ['conv4_block1_1_bn[0][0]']      \n",
            " n)                                                                                               \n",
            "                                                                                                  \n",
            " conv4_block1_2_conv (Conv2D)   (None, 14, 14, 256)  590080      ['conv4_block1_1_relu[0][0]']    \n",
            "                                                                                                  \n",
            " conv4_block1_2_bn (BatchNormal  (None, 14, 14, 256)  1024       ['conv4_block1_2_conv[0][0]']    \n",
            " ization)                                                                                         \n",
            "                                                                                                  \n",
            " conv4_block1_2_relu (Activatio  (None, 14, 14, 256)  0          ['conv4_block1_2_bn[0][0]']      \n",
            " n)                                                                                               \n",
            "                                                                                                  \n",
            " conv4_block1_0_conv (Conv2D)   (None, 14, 14, 1024  525312      ['conv3_block4_out[0][0]']       \n",
            "                                )                                                                 \n",
            "                                                                                                  \n",
            " conv4_block1_3_conv (Conv2D)   (None, 14, 14, 1024  263168      ['conv4_block1_2_relu[0][0]']    \n",
            "                                )                                                                 \n",
            "                                                                                                  \n",
            " conv4_block1_0_bn (BatchNormal  (None, 14, 14, 1024  4096       ['conv4_block1_0_conv[0][0]']    \n",
            " ization)                       )                                                                 \n",
            "                                                                                                  \n",
            " conv4_block1_3_bn (BatchNormal  (None, 14, 14, 1024  4096       ['conv4_block1_3_conv[0][0]']    \n",
            " ization)                       )                                                                 \n",
            "                                                                                                  \n",
            " conv4_block1_add (Add)         (None, 14, 14, 1024  0           ['conv4_block1_0_bn[0][0]',      \n",
            "                                )                                 'conv4_block1_3_bn[0][0]']      \n",
            "                                                                                                  \n",
            " conv4_block1_out (Activation)  (None, 14, 14, 1024  0           ['conv4_block1_add[0][0]']       \n",
            "                                )                                                                 \n",
            "                                                                                                  \n",
            " conv4_block2_1_conv (Conv2D)   (None, 14, 14, 256)  262400      ['conv4_block1_out[0][0]']       \n",
            "                                                                                                  \n",
            " conv4_block2_1_bn (BatchNormal  (None, 14, 14, 256)  1024       ['conv4_block2_1_conv[0][0]']    \n",
            " ization)                                                                                         \n",
            "                                                                                                  \n",
            " conv4_block2_1_relu (Activatio  (None, 14, 14, 256)  0          ['conv4_block2_1_bn[0][0]']      \n",
            " n)                                                                                               \n",
            "                                                                                                  \n",
            " conv4_block2_2_conv (Conv2D)   (None, 14, 14, 256)  590080      ['conv4_block2_1_relu[0][0]']    \n",
            "                                                                                                  \n",
            " conv4_block2_2_bn (BatchNormal  (None, 14, 14, 256)  1024       ['conv4_block2_2_conv[0][0]']    \n",
            " ization)                                                                                         \n",
            "                                                                                                  \n",
            " conv4_block2_2_relu (Activatio  (None, 14, 14, 256)  0          ['conv4_block2_2_bn[0][0]']      \n",
            " n)                                                                                               \n",
            "                                                                                                  \n",
            " conv4_block2_3_conv (Conv2D)   (None, 14, 14, 1024  263168      ['conv4_block2_2_relu[0][0]']    \n",
            "                                )                                                                 \n",
            "                                                                                                  \n",
            " conv4_block2_3_bn (BatchNormal  (None, 14, 14, 1024  4096       ['conv4_block2_3_conv[0][0]']    \n",
            " ization)                       )                                                                 \n",
            "                                                                                                  \n",
            " conv4_block2_add (Add)         (None, 14, 14, 1024  0           ['conv4_block1_out[0][0]',       \n",
            "                                )                                 'conv4_block2_3_bn[0][0]']      \n",
            "                                                                                                  \n",
            " conv4_block2_out (Activation)  (None, 14, 14, 1024  0           ['conv4_block2_add[0][0]']       \n",
            "                                )                                                                 \n",
            "                                                                                                  \n",
            " conv4_block3_1_conv (Conv2D)   (None, 14, 14, 256)  262400      ['conv4_block2_out[0][0]']       \n",
            "                                                                                                  \n",
            " conv4_block3_1_bn (BatchNormal  (None, 14, 14, 256)  1024       ['conv4_block3_1_conv[0][0]']    \n",
            " ization)                                                                                         \n",
            "                                                                                                  \n",
            " conv4_block3_1_relu (Activatio  (None, 14, 14, 256)  0          ['conv4_block3_1_bn[0][0]']      \n",
            " n)                                                                                               \n",
            "                                                                                                  \n",
            " conv4_block3_2_conv (Conv2D)   (None, 14, 14, 256)  590080      ['conv4_block3_1_relu[0][0]']    \n",
            "                                                                                                  \n",
            " conv4_block3_2_bn (BatchNormal  (None, 14, 14, 256)  1024       ['conv4_block3_2_conv[0][0]']    \n",
            " ization)                                                                                         \n",
            "                                                                                                  \n",
            " conv4_block3_2_relu (Activatio  (None, 14, 14, 256)  0          ['conv4_block3_2_bn[0][0]']      \n",
            " n)                                                                                               \n",
            "                                                                                                  \n",
            " conv4_block3_3_conv (Conv2D)   (None, 14, 14, 1024  263168      ['conv4_block3_2_relu[0][0]']    \n",
            "                                )                                                                 \n",
            "                                                                                                  \n",
            " conv4_block3_3_bn (BatchNormal  (None, 14, 14, 1024  4096       ['conv4_block3_3_conv[0][0]']    \n",
            " ization)                       )                                                                 \n",
            "                                                                                                  \n",
            " conv4_block3_add (Add)         (None, 14, 14, 1024  0           ['conv4_block2_out[0][0]',       \n",
            "                                )                                 'conv4_block3_3_bn[0][0]']      \n",
            "                                                                                                  \n",
            " conv4_block3_out (Activation)  (None, 14, 14, 1024  0           ['conv4_block3_add[0][0]']       \n",
            "                                )                                                                 \n",
            "                                                                                                  \n",
            " conv4_block4_1_conv (Conv2D)   (None, 14, 14, 256)  262400      ['conv4_block3_out[0][0]']       \n",
            "                                                                                                  \n",
            " conv4_block4_1_bn (BatchNormal  (None, 14, 14, 256)  1024       ['conv4_block4_1_conv[0][0]']    \n",
            " ization)                                                                                         \n",
            "                                                                                                  \n",
            " conv4_block4_1_relu (Activatio  (None, 14, 14, 256)  0          ['conv4_block4_1_bn[0][0]']      \n",
            " n)                                                                                               \n",
            "                                                                                                  \n",
            " conv4_block4_2_conv (Conv2D)   (None, 14, 14, 256)  590080      ['conv4_block4_1_relu[0][0]']    \n",
            "                                                                                                  \n",
            " conv4_block4_2_bn (BatchNormal  (None, 14, 14, 256)  1024       ['conv4_block4_2_conv[0][0]']    \n",
            " ization)                                                                                         \n",
            "                                                                                                  \n",
            " conv4_block4_2_relu (Activatio  (None, 14, 14, 256)  0          ['conv4_block4_2_bn[0][0]']      \n",
            " n)                                                                                               \n",
            "                                                                                                  \n",
            " conv4_block4_3_conv (Conv2D)   (None, 14, 14, 1024  263168      ['conv4_block4_2_relu[0][0]']    \n",
            "                                )                                                                 \n",
            "                                                                                                  \n",
            " conv4_block4_3_bn (BatchNormal  (None, 14, 14, 1024  4096       ['conv4_block4_3_conv[0][0]']    \n",
            " ization)                       )                                                                 \n",
            "                                                                                                  \n",
            " conv4_block4_add (Add)         (None, 14, 14, 1024  0           ['conv4_block3_out[0][0]',       \n",
            "                                )                                 'conv4_block4_3_bn[0][0]']      \n",
            "                                                                                                  \n",
            " conv4_block4_out (Activation)  (None, 14, 14, 1024  0           ['conv4_block4_add[0][0]']       \n",
            "                                )                                                                 \n",
            "                                                                                                  \n",
            " conv4_block5_1_conv (Conv2D)   (None, 14, 14, 256)  262400      ['conv4_block4_out[0][0]']       \n",
            "                                                                                                  \n",
            " conv4_block5_1_bn (BatchNormal  (None, 14, 14, 256)  1024       ['conv4_block5_1_conv[0][0]']    \n",
            " ization)                                                                                         \n",
            "                                                                                                  \n",
            " conv4_block5_1_relu (Activatio  (None, 14, 14, 256)  0          ['conv4_block5_1_bn[0][0]']      \n",
            " n)                                                                                               \n",
            "                                                                                                  \n",
            " conv4_block5_2_conv (Conv2D)   (None, 14, 14, 256)  590080      ['conv4_block5_1_relu[0][0]']    \n",
            "                                                                                                  \n",
            " conv4_block5_2_bn (BatchNormal  (None, 14, 14, 256)  1024       ['conv4_block5_2_conv[0][0]']    \n",
            " ization)                                                                                         \n",
            "                                                                                                  \n",
            " conv4_block5_2_relu (Activatio  (None, 14, 14, 256)  0          ['conv4_block5_2_bn[0][0]']      \n",
            " n)                                                                                               \n",
            "                                                                                                  \n",
            " conv4_block5_3_conv (Conv2D)   (None, 14, 14, 1024  263168      ['conv4_block5_2_relu[0][0]']    \n",
            "                                )                                                                 \n",
            "                                                                                                  \n",
            " conv4_block5_3_bn (BatchNormal  (None, 14, 14, 1024  4096       ['conv4_block5_3_conv[0][0]']    \n",
            " ization)                       )                                                                 \n",
            "                                                                                                  \n",
            " conv4_block5_add (Add)         (None, 14, 14, 1024  0           ['conv4_block4_out[0][0]',       \n",
            "                                )                                 'conv4_block5_3_bn[0][0]']      \n",
            "                                                                                                  \n",
            " conv4_block5_out (Activation)  (None, 14, 14, 1024  0           ['conv4_block5_add[0][0]']       \n",
            "                                )                                                                 \n",
            "                                                                                                  \n",
            " conv4_block6_1_conv (Conv2D)   (None, 14, 14, 256)  262400      ['conv4_block5_out[0][0]']       \n",
            "                                                                                                  \n",
            " conv4_block6_1_bn (BatchNormal  (None, 14, 14, 256)  1024       ['conv4_block6_1_conv[0][0]']    \n",
            " ization)                                                                                         \n",
            "                                                                                                  \n",
            " conv4_block6_1_relu (Activatio  (None, 14, 14, 256)  0          ['conv4_block6_1_bn[0][0]']      \n",
            " n)                                                                                               \n",
            "                                                                                                  \n",
            " conv4_block6_2_conv (Conv2D)   (None, 14, 14, 256)  590080      ['conv4_block6_1_relu[0][0]']    \n",
            "                                                                                                  \n",
            " conv4_block6_2_bn (BatchNormal  (None, 14, 14, 256)  1024       ['conv4_block6_2_conv[0][0]']    \n",
            " ization)                                                                                         \n",
            "                                                                                                  \n",
            " conv4_block6_2_relu (Activatio  (None, 14, 14, 256)  0          ['conv4_block6_2_bn[0][0]']      \n",
            " n)                                                                                               \n",
            "                                                                                                  \n",
            " conv4_block6_3_conv (Conv2D)   (None, 14, 14, 1024  263168      ['conv4_block6_2_relu[0][0]']    \n",
            "                                )                                                                 \n",
            "                                                                                                  \n",
            " conv4_block6_3_bn (BatchNormal  (None, 14, 14, 1024  4096       ['conv4_block6_3_conv[0][0]']    \n",
            " ization)                       )                                                                 \n",
            "                                                                                                  \n",
            " conv4_block6_add (Add)         (None, 14, 14, 1024  0           ['conv4_block5_out[0][0]',       \n",
            "                                )                                 'conv4_block6_3_bn[0][0]']      \n",
            "                                                                                                  \n",
            " conv4_block6_out (Activation)  (None, 14, 14, 1024  0           ['conv4_block6_add[0][0]']       \n",
            "                                )                                                                 \n",
            "                                                                                                  \n",
            " conv5_block1_1_conv (Conv2D)   (None, 7, 7, 512)    524800      ['conv4_block6_out[0][0]']       \n",
            "                                                                                                  \n",
            " conv5_block1_1_bn (BatchNormal  (None, 7, 7, 512)   2048        ['conv5_block1_1_conv[0][0]']    \n",
            " ization)                                                                                         \n",
            "                                                                                                  \n",
            " conv5_block1_1_relu (Activatio  (None, 7, 7, 512)   0           ['conv5_block1_1_bn[0][0]']      \n",
            " n)                                                                                               \n",
            "                                                                                                  \n",
            " conv5_block1_2_conv (Conv2D)   (None, 7, 7, 512)    2359808     ['conv5_block1_1_relu[0][0]']    \n",
            "                                                                                                  \n",
            " conv5_block1_2_bn (BatchNormal  (None, 7, 7, 512)   2048        ['conv5_block1_2_conv[0][0]']    \n",
            " ization)                                                                                         \n",
            "                                                                                                  \n",
            " conv5_block1_2_relu (Activatio  (None, 7, 7, 512)   0           ['conv5_block1_2_bn[0][0]']      \n",
            " n)                                                                                               \n",
            "                                                                                                  \n",
            " conv5_block1_0_conv (Conv2D)   (None, 7, 7, 2048)   2099200     ['conv4_block6_out[0][0]']       \n",
            "                                                                                                  \n",
            " conv5_block1_3_conv (Conv2D)   (None, 7, 7, 2048)   1050624     ['conv5_block1_2_relu[0][0]']    \n",
            "                                                                                                  \n",
            " conv5_block1_0_bn (BatchNormal  (None, 7, 7, 2048)  8192        ['conv5_block1_0_conv[0][0]']    \n",
            " ization)                                                                                         \n",
            "                                                                                                  \n",
            " conv5_block1_3_bn (BatchNormal  (None, 7, 7, 2048)  8192        ['conv5_block1_3_conv[0][0]']    \n",
            " ization)                                                                                         \n",
            "                                                                                                  \n",
            " conv5_block1_add (Add)         (None, 7, 7, 2048)   0           ['conv5_block1_0_bn[0][0]',      \n",
            "                                                                  'conv5_block1_3_bn[0][0]']      \n",
            "                                                                                                  \n",
            " conv5_block1_out (Activation)  (None, 7, 7, 2048)   0           ['conv5_block1_add[0][0]']       \n",
            "                                                                                                  \n",
            " conv5_block2_1_conv (Conv2D)   (None, 7, 7, 512)    1049088     ['conv5_block1_out[0][0]']       \n",
            "                                                                                                  \n",
            " conv5_block2_1_bn (BatchNormal  (None, 7, 7, 512)   2048        ['conv5_block2_1_conv[0][0]']    \n",
            " ization)                                                                                         \n",
            "                                                                                                  \n",
            " conv5_block2_1_relu (Activatio  (None, 7, 7, 512)   0           ['conv5_block2_1_bn[0][0]']      \n",
            " n)                                                                                               \n",
            "                                                                                                  \n",
            " conv5_block2_2_conv (Conv2D)   (None, 7, 7, 512)    2359808     ['conv5_block2_1_relu[0][0]']    \n",
            "                                                                                                  \n",
            " conv5_block2_2_bn (BatchNormal  (None, 7, 7, 512)   2048        ['conv5_block2_2_conv[0][0]']    \n",
            " ization)                                                                                         \n",
            "                                                                                                  \n",
            " conv5_block2_2_relu (Activatio  (None, 7, 7, 512)   0           ['conv5_block2_2_bn[0][0]']      \n",
            " n)                                                                                               \n",
            "                                                                                                  \n",
            " conv5_block2_3_conv (Conv2D)   (None, 7, 7, 2048)   1050624     ['conv5_block2_2_relu[0][0]']    \n",
            "                                                                                                  \n",
            " conv5_block2_3_bn (BatchNormal  (None, 7, 7, 2048)  8192        ['conv5_block2_3_conv[0][0]']    \n",
            " ization)                                                                                         \n",
            "                                                                                                  \n",
            " conv5_block2_add (Add)         (None, 7, 7, 2048)   0           ['conv5_block1_out[0][0]',       \n",
            "                                                                  'conv5_block2_3_bn[0][0]']      \n",
            "                                                                                                  \n",
            " conv5_block2_out (Activation)  (None, 7, 7, 2048)   0           ['conv5_block2_add[0][0]']       \n",
            "                                                                                                  \n",
            " conv5_block3_1_conv (Conv2D)   (None, 7, 7, 512)    1049088     ['conv5_block2_out[0][0]']       \n",
            "                                                                                                  \n",
            " conv5_block3_1_bn (BatchNormal  (None, 7, 7, 512)   2048        ['conv5_block3_1_conv[0][0]']    \n",
            " ization)                                                                                         \n",
            "                                                                                                  \n",
            " conv5_block3_1_relu (Activatio  (None, 7, 7, 512)   0           ['conv5_block3_1_bn[0][0]']      \n",
            " n)                                                                                               \n",
            "                                                                                                  \n",
            " conv5_block3_2_conv (Conv2D)   (None, 7, 7, 512)    2359808     ['conv5_block3_1_relu[0][0]']    \n",
            "                                                                                                  \n",
            " conv5_block3_2_bn (BatchNormal  (None, 7, 7, 512)   2048        ['conv5_block3_2_conv[0][0]']    \n",
            " ization)                                                                                         \n",
            "                                                                                                  \n",
            " conv5_block3_2_relu (Activatio  (None, 7, 7, 512)   0           ['conv5_block3_2_bn[0][0]']      \n",
            " n)                                                                                               \n",
            "                                                                                                  \n",
            " conv5_block3_3_conv (Conv2D)   (None, 7, 7, 2048)   1050624     ['conv5_block3_2_relu[0][0]']    \n",
            "                                                                                                  \n",
            " conv5_block3_3_bn (BatchNormal  (None, 7, 7, 2048)  8192        ['conv5_block3_3_conv[0][0]']    \n",
            " ization)                                                                                         \n",
            "                                                                                                  \n",
            " conv5_block3_add (Add)         (None, 7, 7, 2048)   0           ['conv5_block2_out[0][0]',       \n",
            "                                                                  'conv5_block3_3_bn[0][0]']      \n",
            "                                                                                                  \n",
            " conv5_block3_out (Activation)  (None, 7, 7, 2048)   0           ['conv5_block3_add[0][0]']       \n",
            "                                                                                                  \n",
            " flatten_2 (Flatten)            (None, 100352)       0           ['conv5_block3_out[0][0]']       \n",
            "                                                                                                  \n",
            " dense_2 (Dense)                (None, 4)            401412      ['flatten_2[0][0]']              \n",
            "                                                                                                  \n",
            "==================================================================================================\n",
            "Total params: 23,989,124\n",
            "Trainable params: 401,412\n",
            "Non-trainable params: 23,587,712\n",
            "__________________________________________________________________________________________________\n"
          ]
        }
      ]
    },
    {
      "cell_type": "code",
      "source": [
        "res_model.compile(loss='categorical_crossentropy',optimizer='adam',metrics=['accuracy'])"
      ],
      "metadata": {
        "id": "7YB0xcPDYNKa"
      },
      "execution_count": null,
      "outputs": []
    },
    {
      "cell_type": "code",
      "source": [
        "res_model.fit(train,epochs=5,validation_data=test,steps_per_epoch=len(train),\n",
        "              validation_steps=len(test))"
      ],
      "metadata": {
        "id": "w54r4y9uYQmn",
        "colab": {
          "base_uri": "https://localhost:8080/"
        },
        "outputId": "f0476376-2444-4aff-fe7b-a234009697fd"
      },
      "execution_count": null,
      "outputs": [
        {
          "output_type": "stream",
          "name": "stdout",
          "text": [
            "Epoch 1/5\n",
            "8/8 [==============================] - 103s 14s/step - loss: 6.6201 - accuracy: 0.0000e+00 - val_loss: 6.6761 - val_accuracy: 0.0000e+00\n",
            "Epoch 2/5\n",
            "8/8 [==============================] - 98s 13s/step - loss: 6.6317 - accuracy: 0.0000e+00 - val_loss: 6.6529 - val_accuracy: 0.0000e+00\n",
            "Epoch 3/5\n",
            "8/8 [==============================] - 96s 13s/step - loss: 6.6479 - accuracy: 0.0000e+00 - val_loss: 6.5378 - val_accuracy: 0.0000e+00\n",
            "Epoch 4/5\n",
            "8/8 [==============================] - ETA: 0s - loss: 6.6117 - accuracy: 0.0000e+00"
          ]
        }
      ]
    }
  ]
}
